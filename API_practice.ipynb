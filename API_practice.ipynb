{
 "cells": [
  {
   "cell_type": "code",
   "execution_count": 22,
   "source": [
    "# Import the requests library and API key\r\n",
    "import requests\r\n",
    "from config import weather_api_key\r\n",
    "from datetime import datetime\r\n",
    "\r\n",
    "# Starting URL for Weather Map API Call.\r\n",
    "url = \"http://api.openweathermap.org/data/2.5/weather?units=Imperial&APPID=\" + weather_api_key\r\n",
    "url"
   ],
   "outputs": [
    {
     "output_type": "execute_result",
     "data": {
      "text/plain": [
       "'http://api.openweathermap.org/data/2.5/weather?units=Imperial&APPID=1c3dddf54ab459df95287d491b400399'"
      ]
     },
     "metadata": {},
     "execution_count": 22
    }
   ],
   "metadata": {}
  },
  {
   "cell_type": "code",
   "execution_count": 4,
   "source": [
    "# Create an endpoint URL for a city.\r\n",
    "city_url = url + \"&q=\" + \"Boston\"\r\n",
    "print(city_url) "
   ],
   "outputs": [
    {
     "output_type": "stream",
     "name": "stdout",
     "text": [
      "http://api.openweathermap.org/data/2.5/weather?units=Imperial&APPID=1c3dddf54ab459df95287d491b400399&q=Boston\n"
     ]
    }
   ],
   "metadata": {}
  },
  {
   "cell_type": "code",
   "execution_count": 20,
   "source": [
    "# Make a 'Get' request for the city weather.\r\n",
    "city_url = url + \"&q=\" + \"Boston\"\r\n",
    "city_weather = requests.get(city_url)\r\n",
    "if city_weather.status_code == 200:\r\n",
    "    print(f\"City Weather found.\")\r\n",
    "else:\r\n",
    "    print(f\"City weather not found.\")\r\n",
    "# city_weather.status_code\r\n",
    "city_weather.json()"
   ],
   "outputs": [
    {
     "output_type": "stream",
     "name": "stdout",
     "text": [
      "City Weather found.\n"
     ]
    },
    {
     "output_type": "execute_result",
     "data": {
      "text/plain": [
       "{'coord': {'lon': -71.0598, 'lat': 42.3584},\n",
       " 'weather': [{'id': 804,\n",
       "   'main': 'Clouds',\n",
       "   'description': 'overcast clouds',\n",
       "   'icon': '04n'}],\n",
       " 'base': 'stations',\n",
       " 'main': {'temp': 70.05,\n",
       "  'feels_like': 71.13,\n",
       "  'temp_min': 67.08,\n",
       "  'temp_max': 73.24,\n",
       "  'pressure': 1018,\n",
       "  'humidity': 93},\n",
       " 'visibility': 10000,\n",
       " 'wind': {'speed': 3, 'deg': 0, 'gust': 11.99},\n",
       " 'clouds': {'all': 90},\n",
       " 'dt': 1632466176,\n",
       " 'sys': {'type': 2,\n",
       "  'id': 2013408,\n",
       "  'country': 'US',\n",
       "  'sunrise': 1632479635,\n",
       "  'sunset': 1632523105},\n",
       " 'timezone': -14400,\n",
       " 'id': 4930956,\n",
       " 'name': 'Boston',\n",
       " 'cod': 200}"
      ]
     },
     "metadata": {},
     "execution_count": 20
    }
   ],
   "metadata": {}
  },
  {
   "cell_type": "code",
   "execution_count": 31,
   "source": [
    "boston_data = city_weather.json()\r\n",
    "#boston_data[\"sys\"][\"country\"]\r\n",
    "name = boston_data[\"name\"]\r\n",
    "country = boston_data[\"sys\"][\"country\"]\r\n",
    "lat = boston_data[\"coord\"][\"lat\"]\r\n",
    "lng = boston_data[\"coord\"][\"lon\"]\r\n",
    "max_temp = boston_data[\"main\"][\"temp_max\"]\r\n",
    "humidity = boston_data[\"main\"][\"humidity\"]\r\n",
    "clouds = boston_data[\"clouds\"][\"all\"]\r\n",
    "wind = boston_data[\"wind\"][\"speed\"]\r\n",
    "\r\n",
    "# Get the date from the JSON file.\r\n",
    "date = boston_data[\"dt\"]\r\n",
    "# Convert the UTC date to a date format with year, month, day, hours, minutes, and seconds.\r\n",
    "date = datetime.utcfromtimestamp(date).strftime('%Y-%m-%d %H:%M:%S')\r\n",
    "\r\n",
    "print(name, country, date, lng, max_temp, humidity, clouds, wind)"
   ],
   "outputs": [
    {
     "output_type": "stream",
     "name": "stdout",
     "text": [
      "Boston US 2021-09-24 06:49:36 -71.0598 73.24 93 90 3\n"
     ]
    }
   ],
   "metadata": {}
  }
 ],
 "metadata": {
  "orig_nbformat": 4,
  "language_info": {
   "name": "python",
   "version": "3.7.10",
   "mimetype": "text/x-python",
   "codemirror_mode": {
    "name": "ipython",
    "version": 3
   },
   "pygments_lexer": "ipython3",
   "nbconvert_exporter": "python",
   "file_extension": ".py"
  },
  "kernelspec": {
   "name": "python3",
   "display_name": "Python 3.7.10 64-bit ('PythonData': conda)"
  },
  "interpreter": {
   "hash": "cbb7df293b7b8f6ff85d270e69b92021948083b8a6af9f76ed1d2a6bc37e8e5b"
  }
 },
 "nbformat": 4,
 "nbformat_minor": 2
}