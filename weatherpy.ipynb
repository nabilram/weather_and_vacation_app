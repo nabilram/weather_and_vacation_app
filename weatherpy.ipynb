{
 "cells": [
  {
   "cell_type": "code",
   "execution_count": 5,
   "source": [
    "import pandas as pd\r\n",
    "import matplotlib.pyplot as plt\r\n",
    "import numpy as np\r\n",
    "from citipy import citipy"
   ],
   "outputs": [],
   "metadata": {}
  },
  {
   "cell_type": "code",
   "execution_count": 14,
   "source": [
    "# random longs and lats\r\n",
    "lats = np.random.uniform(low=-90.000, high=90.000, size=1500)\r\n",
    "lngs = np.random.uniform(low=-180.000, high=180.000, size=1500)\r\n",
    "\r\n",
    "# zip ties each into tuples\r\n",
    "lat_lngs = zip(lats, lngs)\r\n",
    "\r\n",
    "# turn tuples into list (unzipping it)\r\n",
    "coordinates = list(lat_lngs)\r\n",
    "\r\n",
    "# create list of cities from coordinates\r\n",
    "cities = []\r\n",
    "for c in coordinates:\r\n",
    "    city = citipy.nearest_city(c[0], c[1]).city_name\r\n",
    "\r\n",
    "    if city not in cities:\r\n",
    "        cities.append(city)\r\n",
    "len(cities)"
   ],
   "outputs": [
    {
     "output_type": "execute_result",
     "data": {
      "text/plain": [
       "613"
      ]
     },
     "metadata": {},
     "execution_count": 14
    }
   ],
   "metadata": {}
  }
 ],
 "metadata": {
  "orig_nbformat": 4,
  "language_info": {
   "name": "python",
   "version": "3.7.10",
   "mimetype": "text/x-python",
   "codemirror_mode": {
    "name": "ipython",
    "version": 3
   },
   "pygments_lexer": "ipython3",
   "nbconvert_exporter": "python",
   "file_extension": ".py"
  },
  "kernelspec": {
   "name": "python3",
   "display_name": "Python 3.7.10 64-bit ('PythonData': conda)"
  },
  "interpreter": {
   "hash": "cbb7df293b7b8f6ff85d270e69b92021948083b8a6af9f76ed1d2a6bc37e8e5b"
  }
 },
 "nbformat": 4,
 "nbformat_minor": 2
}