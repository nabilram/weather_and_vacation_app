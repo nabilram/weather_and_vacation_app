{
 "cells": [
  {
   "cell_type": "code",
   "execution_count": 22,
   "source": [
    "import random as rd\r\n",
    "import numpy as np\r\n",
    "import timeit\r\n",
    "\r\n",
    "\r\n",
    "# see diff random uses below\r\n",
    "\r\n",
    "# bet 0-1 high digit count decimal point \r\n",
    "rd.random()\r\n",
    "\r\n",
    " # integer between two numbers\r\n",
    "rd.randint(-10, 10)\r\n",
    "\r\n",
    "# same as int but with step/tick as 3rd argument, 1 step as default\r\n",
    "rd.randrange(-10, 10, 2)\r\n",
    "\r\n",
    "# between two numbers but with decmial\r\n",
    "rd.uniform(110, 10)"
   ],
   "outputs": [
    {
     "output_type": "execute_result",
     "data": {
      "text/plain": [
       "96.7558129384079"
      ]
     },
     "metadata": {},
     "execution_count": 22
    }
   ],
   "metadata": {}
  },
  {
   "cell_type": "code",
   "execution_count": 11,
   "source": [
    "rand_ltd = rd.randint(-90, 89) + rd.random()\r\n",
    "rand_ltd "
   ],
   "outputs": [
    {
     "output_type": "execute_result",
     "data": {
      "text/plain": [
       "-70.87771170694795"
      ]
     },
     "metadata": {},
     "execution_count": 11
    }
   ],
   "metadata": {}
  },
  {
   "cell_type": "code",
   "execution_count": 16,
   "source": [
    "i = 1\r\n",
    "ltds = []\r\n",
    "while i < 11:\r\n",
    "    rand_ltd= rd.uniform(-90, 89)\r\n",
    "    ltds.append(rand_ltd)\r\n",
    "    i += 1\r\n",
    "\r\n",
    "ltds"
   ],
   "outputs": [
    {
     "output_type": "execute_result",
     "data": {
      "text/plain": [
       "[-86.73258923491059,\n",
       " 81.61902475864042,\n",
       " -59.463856482149296,\n",
       " -86.61504075815006,\n",
       " -35.67053154634582,\n",
       " -10.858513098997108,\n",
       " 63.502242929613345,\n",
       " 57.56926536289089,\n",
       " 50.71669503142155,\n",
       " 70.90803129228772]"
      ]
     },
     "metadata": {},
     "execution_count": 16
    }
   ],
   "metadata": {}
  },
  {
   "cell_type": "code",
   "execution_count": 21,
   "source": [
    "i = 1\r\n",
    "ltds = []\r\n",
    "while i < 11:\r\n",
    "    rand_ltd= np.random.uniform(-90, 89)\r\n",
    "    ltds.append(rand_ltd)\r\n",
    "    i += 1\r\n",
    "\r\n",
    "ltds"
   ],
   "outputs": [
    {
     "output_type": "execute_result",
     "data": {
      "text/plain": [
       "[5.492967833654589,\n",
       " 23.313880318402795,\n",
       " -79.85882386164671,\n",
       " 80.89665351684127,\n",
       " 67.77947615873398,\n",
       " -88.70771184937573,\n",
       " -42.08112658082356,\n",
       " -74.14532764364327,\n",
       " 28.37844149977417,\n",
       " 14.839775775406892]"
      ]
     },
     "metadata": {},
     "execution_count": 21
    }
   ],
   "metadata": {}
  },
  {
   "cell_type": "code",
   "execution_count": 25,
   "source": [
    "%timeit np.random.uniform(-90, 90, size = 1500)"
   ],
   "outputs": [
    {
     "output_type": "stream",
     "name": "stdout",
     "text": [
      "13.2 µs ± 265 ns per loop (mean ± std. dev. of 7 runs, 100000 loops each)\n"
     ]
    }
   ],
   "metadata": {}
  },
  {
   "cell_type": "code",
   "execution_count": 27,
   "source": [
    "def latitudes(size):\r\n",
    "    latitudes = []\r\n",
    "    x = 0\r\n",
    "    while x < (size):\r\n",
    "        random_lat = rd.randint(-90, 90) + rd.random()\r\n",
    "        latitudes.append(rand_ltd)\r\n",
    "        x += 1\r\n",
    "    return latitudes\r\n",
    "# Call the function with 1500.\r\n",
    "%timeit latitudes(1500)"
   ],
   "outputs": [
    {
     "output_type": "stream",
     "name": "stdout",
     "text": [
      "1.67 ms ± 45 µs per loop (mean ± std. dev. of 7 runs, 1000 loops each)\n"
     ]
    }
   ],
   "metadata": {}
  },
  {
   "cell_type": "code",
   "execution_count": null,
   "source": [],
   "outputs": [],
   "metadata": {}
  }
 ],
 "metadata": {
  "interpreter": {
   "hash": "cbb7df293b7b8f6ff85d270e69b92021948083b8a6af9f76ed1d2a6bc37e8e5b"
  },
  "kernelspec": {
   "display_name": "Python 3",
   "language": "python",
   "name": "python3"
  },
  "language_info": {
   "codemirror_mode": {
    "name": "ipython",
    "version": 3
   },
   "file_extension": ".py",
   "mimetype": "text/x-python",
   "name": "python",
   "nbconvert_exporter": "python",
   "pygments_lexer": "ipython3",
   "version": "3.8.8"
  }
 },
 "nbformat": 4,
 "nbformat_minor": 4
}